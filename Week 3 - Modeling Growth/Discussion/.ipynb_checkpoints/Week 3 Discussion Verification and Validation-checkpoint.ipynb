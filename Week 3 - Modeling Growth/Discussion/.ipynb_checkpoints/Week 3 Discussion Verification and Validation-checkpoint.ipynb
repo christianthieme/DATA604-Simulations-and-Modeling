{
 "cells": [
  {
   "cell_type": "markdown",
   "metadata": {},
   "source": [
    "## Simulation and Modeling Techniques - Discussion Week 3\n",
    "\n",
    "### Christian Thieme\n",
    "\n",
    "### 6/15/2020"
   ]
  },
  {
   "cell_type": "markdown",
   "metadata": {},
   "source": [
    "### 1. In simulation, what is verification?  What is validation?  How do they differ?  What was done in the assigned simulation journal reading to conduct V&V?"
   ]
  },
  {
   "cell_type": "markdown",
   "metadata": {},
   "source": [
    "* Verification is the process that the developer must go through to make sure that her/his model is working as they built it to work. For example, if the model takes an input and squares it, does the output of the model actually return a squared value? If so, we would say the model has been verified. Verification does not compare the model to the \"real-world\" process. It's really a process of crossing the t's and dotting the i's to ensure your model is working as you intend.\n",
    "\n",
    "\n",
    "* Validation is the process we are more familiar with. Validation is ensuring that the model that has been built actually represents the real-world scenario being modeled. The modeler needs to ensure that they've accurately captured and implemented the process they are simulating, which involves heavy reliance upon data from the real-world process.\n",
    "\n",
    "\n",
    "* In the assigned reading this week, found [here](https://journals.sagepub.com/doi/abs/10.1177/1548512910364390), the authors didn't directly discuss how they _verified_ their work. However, based on the flow of the article and the methodologies chosen to implement, we can say that a great deal of verification had to take place in order to build the model discussed. Additionally, toward the end of the article the authors include a graphical representation of the results of the optimized model, which would also be another way to validate that the model is working as they intended. Validation of the model is evident throughout the article. An entire page of the article is dedicated to describing previous, validated work that had been completed in other studies that was leveraged to build the current model. Additionally, the authors discuss the use of data from Operation Iraqi Freedom as a base for their model allowing them to scrutinize thier optimized model against real-world data. As their ultimate goal was to create an \"optimization\" model, there were several unknowns in their model that needed to be solved for. As part of their validation process, they set constraints on the values that these unknowns could take to limit them to what could actually happen in a real-world scenario. \n"
   ]
  },
  {
   "cell_type": "markdown",
   "metadata": {},
   "source": [
    "### 2. Share some code from last week that was particularly rewarding or frustrating.  We will comment on it. "
   ]
  },
  {
   "cell_type": "markdown",
   "metadata": {},
   "source": [
    "Really quite simple, but one of the code segments I found rewarding this last week was the built in function in Pandas to scrape all html tables within a web page. Last year before I started the program, I was doing some personal [research](https://github.com/christianthieme/idaho-real-estate-research-api-web-scraping/blob/master/Real%20Estate%20Research.ipynb) on real-estate in Idaho  and was using BeautifulSoupl to scrape some tables from a website and my code could have been significantly simplified by using a code block like the one below from this week's material. Happy to have added another tool to the toolbox, and especially one that is so simple for a fairly common task. "
   ]
  },
  {
   "cell_type": "code",
   "execution_count": 2,
   "metadata": {},
   "outputs": [
    {
     "data": {
      "text/html": [
       "<div>\n",
       "<style scoped>\n",
       "    .dataframe tbody tr th:only-of-type {\n",
       "        vertical-align: middle;\n",
       "    }\n",
       "\n",
       "    .dataframe tbody tr th {\n",
       "        vertical-align: top;\n",
       "    }\n",
       "\n",
       "    .dataframe thead th {\n",
       "        text-align: right;\n",
       "    }\n",
       "</style>\n",
       "<table border=\"1\" class=\"dataframe\">\n",
       "  <thead>\n",
       "    <tr style=\"text-align: right;\">\n",
       "      <th></th>\n",
       "      <th>United States Census Bureau (2017)[29]</th>\n",
       "      <th>Population Reference Bureau (1973–2016)[15]</th>\n",
       "      <th>United Nations Department of Economic and Social Affairs (2015)[16]</th>\n",
       "      <th>Maddison (2008)[17]</th>\n",
       "      <th>HYDE (2007)[25]</th>\n",
       "      <th>Tanton (1994)[19]</th>\n",
       "      <th>Biraben (1980)[20]</th>\n",
       "      <th>McEvedy &amp; Jones (1978)[21]</th>\n",
       "      <th>Thomlinson (1975)[22]</th>\n",
       "      <th>Durand (1974)[23]</th>\n",
       "      <th>Clark (1967)[24]</th>\n",
       "    </tr>\n",
       "    <tr>\n",
       "      <th>Year</th>\n",
       "      <th></th>\n",
       "      <th></th>\n",
       "      <th></th>\n",
       "      <th></th>\n",
       "      <th></th>\n",
       "      <th></th>\n",
       "      <th></th>\n",
       "      <th></th>\n",
       "      <th></th>\n",
       "      <th></th>\n",
       "      <th></th>\n",
       "    </tr>\n",
       "  </thead>\n",
       "  <tbody>\n",
       "    <tr>\n",
       "      <th>1950</th>\n",
       "      <td>2557628654</td>\n",
       "      <td>2.516000e+09</td>\n",
       "      <td>2.525149e+09</td>\n",
       "      <td>2.544000e+09</td>\n",
       "      <td>2.527960e+09</td>\n",
       "      <td>2.400000e+09</td>\n",
       "      <td>2.527000e+09</td>\n",
       "      <td>2.500000e+09</td>\n",
       "      <td>2.400000e+09</td>\n",
       "      <td>NaN</td>\n",
       "      <td>2.486000e+09</td>\n",
       "    </tr>\n",
       "    <tr>\n",
       "      <th>1951</th>\n",
       "      <td>2594939877</td>\n",
       "      <td>NaN</td>\n",
       "      <td>2.572851e+09</td>\n",
       "      <td>2.571663e+09</td>\n",
       "      <td>NaN</td>\n",
       "      <td>NaN</td>\n",
       "      <td>NaN</td>\n",
       "      <td>NaN</td>\n",
       "      <td>NaN</td>\n",
       "      <td>NaN</td>\n",
       "      <td>NaN</td>\n",
       "    </tr>\n",
       "    <tr>\n",
       "      <th>1952</th>\n",
       "      <td>2636772306</td>\n",
       "      <td>NaN</td>\n",
       "      <td>2.619292e+09</td>\n",
       "      <td>2.617949e+09</td>\n",
       "      <td>NaN</td>\n",
       "      <td>NaN</td>\n",
       "      <td>NaN</td>\n",
       "      <td>NaN</td>\n",
       "      <td>NaN</td>\n",
       "      <td>NaN</td>\n",
       "      <td>NaN</td>\n",
       "    </tr>\n",
       "    <tr>\n",
       "      <th>1953</th>\n",
       "      <td>2682053389</td>\n",
       "      <td>NaN</td>\n",
       "      <td>2.665865e+09</td>\n",
       "      <td>2.665959e+09</td>\n",
       "      <td>NaN</td>\n",
       "      <td>NaN</td>\n",
       "      <td>NaN</td>\n",
       "      <td>NaN</td>\n",
       "      <td>NaN</td>\n",
       "      <td>NaN</td>\n",
       "      <td>NaN</td>\n",
       "    </tr>\n",
       "    <tr>\n",
       "      <th>1954</th>\n",
       "      <td>2730228104</td>\n",
       "      <td>NaN</td>\n",
       "      <td>2.713172e+09</td>\n",
       "      <td>2.716927e+09</td>\n",
       "      <td>NaN</td>\n",
       "      <td>NaN</td>\n",
       "      <td>NaN</td>\n",
       "      <td>NaN</td>\n",
       "      <td>NaN</td>\n",
       "      <td>NaN</td>\n",
       "      <td>NaN</td>\n",
       "    </tr>\n",
       "  </tbody>\n",
       "</table>\n",
       "</div>"
      ],
      "text/plain": [
       "      United States Census Bureau (2017)[29]  ...  Clark (1967)[24]\n",
       "Year                                          ...                  \n",
       "1950                              2557628654  ...      2.486000e+09\n",
       "1951                              2594939877  ...               NaN\n",
       "1952                              2636772306  ...               NaN\n",
       "1953                              2682053389  ...               NaN\n",
       "1954                              2730228104  ...               NaN\n",
       "\n",
       "[5 rows x 11 columns]"
      ]
     },
     "execution_count": 2,
     "metadata": {},
     "output_type": "execute_result"
    }
   ],
   "source": [
    "from pandas import read_html\n",
    "\n",
    "filename = 'https://en.wikipedia.org/wiki/World_population_estimates'\n",
    "tables = read_html(filename, header=0, index_col=0, decimal='M')\n",
    "table2 = tables[2]\n",
    "table2.head()"
   ]
  }
 ],
 "metadata": {
  "kernelspec": {
   "display_name": "Python 3",
   "language": "python",
   "name": "python3"
  },
  "language_info": {
   "codemirror_mode": {
    "name": "ipython",
    "version": 3
   },
   "file_extension": ".py",
   "mimetype": "text/x-python",
   "name": "python",
   "nbconvert_exporter": "python",
   "pygments_lexer": "ipython3",
   "version": "3.7.6"
  }
 },
 "nbformat": 4,
 "nbformat_minor": 4
}
