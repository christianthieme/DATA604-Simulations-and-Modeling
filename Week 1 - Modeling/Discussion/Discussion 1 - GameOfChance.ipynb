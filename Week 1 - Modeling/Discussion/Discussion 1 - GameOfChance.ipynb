{
  "nbformat": 4,
  "nbformat_minor": 0,
  "metadata": {
    "colab": {
      "name": "GameOfChance.ipynb",
      "provenance": [],
      "collapsed_sections": [],
      "authorship_tag": "ABX9TyMz5nxZoFehlIYWL/6J62I4",
      "include_colab_link": true
    },
    "kernelspec": {
      "name": "python3",
      "display_name": "Python 3"
    }
  },
  "cells": [
    {
      "cell_type": "markdown",
      "metadata": {
        "id": "view-in-github",
        "colab_type": "text"
      },
      "source": [
        "<a href=\"https://colab.research.google.com/github/christianthieme/DATA604-Simulations-and-Modeling/blob/master/GameOfChance.ipynb\" target=\"_parent\"><img src=\"https://colab.research.google.com/assets/colab-badge.svg\" alt=\"Open In Colab\"/></a>"
      ]
    },
    {
      "cell_type": "markdown",
      "metadata": {
        "id": "46cpnactl618",
        "colab_type": "text"
      },
      "source": [
        "# Game of Chance\n",
        "\n",
        "The purpose of this game is to simlulate a game where a player rolls two fair dice and if both die land on the same number, the player wins, otherwise the player loses. We would expect a player to win about ~16.66% (1/6) of the time. We will simulate this game 1,000 times and see if we are in line with the percentage above.  "
      ]
    },
    {
      "cell_type": "code",
      "metadata": {
        "id": "ekx9E8vylpYt",
        "colab_type": "code",
        "colab": {}
      },
      "source": [
        "import numpy as np\n",
        "import pandas as pd"
      ],
      "execution_count": 0,
      "outputs": []
    },
    {
      "cell_type": "code",
      "metadata": {
        "id": "0HoyhqFxl5P4",
        "colab_type": "code",
        "colab": {}
      },
      "source": [
        "def player_roll_dice(num_dice):\n",
        "  die, probabilities, num_dice = [1,2,3,4,5,6], [1/6,1/6,1/6,1/6,1/6,1/6], num_dice\n",
        "  outcomes = np.random.choice(die, size = num_dice, p = probabilities) \n",
        "  if outcomes[0] == outcomes[1]:\n",
        "    return 1 # 1 will be a win\n",
        "  else: \n",
        "    return 0 # 0 will be a loss\n",
        "  "
      ],
      "execution_count": 0,
      "outputs": []
    },
    {
      "cell_type": "code",
      "metadata": {
        "id": "Bm0WNGFQmtp6",
        "colab_type": "code",
        "colab": {}
      },
      "source": [
        "def simulation(run_times, num_dice):\n",
        "  win_loss = []\n",
        "  for i in range(run_times):\n",
        "    result = player_roll_dice(num_dice)\n",
        "    win_loss.append(result)\n",
        "    wins = sum(win_loss)\n",
        "  print(\"There were {} wins and {} losses\".format(wins, run_times - wins))\n",
        "  print(\"The player won {}% of the time\".format((wins/run_times)*100))\n",
        "  \n"
      ],
      "execution_count": 0,
      "outputs": []
    },
    {
      "cell_type": "code",
      "metadata": {
        "id": "Atvo3RCSmvLS",
        "colab_type": "code",
        "colab": {
          "base_uri": "https://localhost:8080/",
          "height": 51
        },
        "outputId": "e32088d5-2de1-4244-d598-c6c88e747f8b"
      },
      "source": [
        "simulation(1000,2)"
      ],
      "execution_count": 70,
      "outputs": [
        {
          "output_type": "stream",
          "text": [
            "There were 175 wins and 825 losses\n",
            "The player won 17.5% of the time\n"
          ],
          "name": "stdout"
        }
      ]
    }
  ]
}