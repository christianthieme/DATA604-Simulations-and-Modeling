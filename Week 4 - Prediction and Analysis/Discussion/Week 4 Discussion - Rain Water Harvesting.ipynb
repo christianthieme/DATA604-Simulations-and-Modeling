{
 "cells": [
  {
   "cell_type": "markdown",
   "metadata": {},
   "source": [
    "## Simulation and Modeling Techniques - Discussion Week 4\n",
    "\n",
    "### Christian Thieme\n",
    "\n",
    "### 6/23/2020"
   ]
  },
  {
   "cell_type": "markdown",
   "metadata": {},
   "source": [
    "### 1. Explain the balance equations from the rainwater harvesting paper posted to this week's reading."
   ]
  },
  {
   "cell_type": "markdown",
   "metadata": {},
   "source": [
    "In this week's article, \"Rainwater harvesting system using a non-parametric stochastic rainfall generator\", the authors discussed the possibility of using rainwater harvesting as a way to deliver 100% of the water demands of a family. Specifically, the article describes how using similuation, appropriate design choices can be made to ensure that water supply within the water cistern is always greater than demand. This simulation was modeled using a non-parametric stochastic rainfall generator based on 64 years of rainfall data in Texas. The output of the simulations were then passed to these balance equations: \n",
    "\n",
    "* ${ V }_{ t }=Max\\{ 0,{ V }_{ t-1 }+{ C }_{ t }-{ D }_{ t }-{ O }_{ t }\\}$\n",
    "* ${ V }_{ t }=Min\\{ Max\\{ 0,{ V }_{ t-1 }+{ C }_{ t }-{ D }_{ t }\\} ,Cap\\}$\n",
    "\n",
    "Where C is the capture supply of rainwater from the roof, D is the demand for water, O is the overflow, and V is the volume of water in the cistern. Cap in the second equation is a model of tank capacity. The balance equations were then evaluated, based on the inputs, to determine if the volume in the tank was sufficient to meet demand 100% of the time. Besides rainfall, significant variables in the model were number occupants in the home, square footage of capture space on the roof, and the amount of gallons of water the cistern could hold. Through running simulations using different parameters, the number of occupants in the house plays a very significant role in the simulation, as we'd expect. There were many plausible options where the balance equations satisfied the criteria for a two occupant home, however, when occupancy bumped up to three, there were several scenarios in which the criteria of being able to meet 100% of demand were not achieved. "
   ]
  },
  {
   "cell_type": "markdown",
   "metadata": {},
   "source": [
    "### 2.  Share some code from last week that was particularly rewarding or frustrating.  "
   ]
  },
  {
   "cell_type": "markdown",
   "metadata": {},
   "source": [
    "One piece of code that i've taken for granted over the last several weeks is the conversion of the values from billions with all the digits to billions in a more readable form (i.e. 2.52B). This is done by dividing by 1e9 in the following code: "
   ]
  },
  {
   "cell_type": "code",
   "execution_count": 5,
   "metadata": {},
   "outputs": [
    {
     "data": {
      "text/plain": [
       "Year\n",
       "1950    2.525149\n",
       "1951    2.572851\n",
       "1952    2.619292\n",
       "1953    2.665865\n",
       "1954    2.713172\n",
       "Name: un, dtype: float64"
      ]
     },
     "execution_count": 5,
     "metadata": {},
     "output_type": "execute_result"
    }
   ],
   "source": [
    "from pandas import read_html\n",
    "filename = 'https://en.wikipedia.org/wiki/World_population_estimates'\n",
    "tables = read_html(filename, header=0, index_col=0, decimal='M')\n",
    "table2 = tables[2]\n",
    "table2.columns = ['census', 'prb', 'un', 'maddison', \n",
    "                  'hyde', 'tanton', 'biraben', 'mj', \n",
    "                  'thomlinson', 'durand', 'clark']\n",
    "\n",
    "un = table2.un / 1e9\n",
    "un.head()"
   ]
  },
  {
   "cell_type": "markdown",
   "metadata": {},
   "source": [
    "I do conversions all the time like this at work and am always stuck counting zeros and making sure I am dividing by 1B and not 1M. Using 1e9 is an awesome shortcut that makes this simple and easy and saves me from having to count zeros ever again!"
   ]
  }
 ],
 "metadata": {
  "kernelspec": {
   "display_name": "Python 3",
   "language": "python",
   "name": "python3"
  },
  "language_info": {
   "codemirror_mode": {
    "name": "ipython",
    "version": 3
   },
   "file_extension": ".py",
   "mimetype": "text/x-python",
   "name": "python",
   "nbconvert_exporter": "python",
   "pygments_lexer": "ipython3",
   "version": "3.7.6"
  }
 },
 "nbformat": 4,
 "nbformat_minor": 4
}
