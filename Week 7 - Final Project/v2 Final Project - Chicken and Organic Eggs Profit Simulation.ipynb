{
 "cells": [
  {
   "cell_type": "code",
   "execution_count": 532,
   "metadata": {},
   "outputs": [],
   "source": [
    "import numpy as np\n",
    "import pandas as pd\n",
    "import math\n",
    "import matplotlib.pyplot as plt"
   ]
  },
  {
   "cell_type": "code",
   "execution_count": 42,
   "metadata": {},
   "outputs": [
    {
     "data": {
      "text/plain": [
       "860.2799999999999"
      ]
     },
     "execution_count": 42,
     "metadata": {},
     "output_type": "execute_result"
    }
   ],
   "source": [
    "#egg_revenue funtion will be a function that returns the revenue from selling x dozen eggs at x price, laid by x chickens  \n",
    "\n",
    "def egg_revenue(chickens, days, sale_price, cost_of_carton): \n",
    "    \n",
    "    #chickens - number of chickens in the flock\n",
    "    #days - number of days you want to simulate (i.e. 31 for month, 365 for year, etc.)\n",
    "    #sale_price - the price at which you can sell 1 dozen eggs (will vary by location)\n",
    "    #cost_of_carton - cost of indiviudal egg carton\n",
    "    \n",
    "    total_egg_count = []\n",
    "    #total_egg_count will hold the count of eggs laid each day\n",
    "    #We will take this count, sum it, and then multiply by the\n",
    "    #price of the eggs to get revenue\n",
    "\n",
    "    for day in range(days): #for loop to loop through each of the days chosen in the input parameter\n",
    "        \n",
    "        egg = [0,1]  # egg is setting our outcomes, 0 for no egg, 1 for an egg\n",
    "        eggs_today = [] # will hold the count of the eggs laid by each chicken in a day\n",
    "\n",
    "        daily_egg_prob = np.random.uniform(low = 235, high = 275, size = chickens)\n",
    "        #daily_egg_prob uses a uniform distribution to randomly select values between 235 and 275, which is \n",
    "        #is the interval for how many eggs a chicken lays per year. The size parameter above will be set\n",
    "        #to select a random sample for every chicken in the flock. \n",
    "\n",
    "        for i in daily_egg_prob: #here we loop through the above samples for each chicken and use the sample to calculate\n",
    "            #a probability that a chicken will lay an egg that day (i.e. p = 275/365)\n",
    "            \n",
    "            probabilities = [1-(i/365),(i/365)] #[0] is the outcome where an egg is NOT laid, [1] is an egg is laid\n",
    "            \n",
    "            outcome = np.random.choice(egg, size = 1, p= probabilities) #based on the probabilities, picks an outcome\n",
    "            #of an egg or no egg for a day\n",
    "            \n",
    "            eggs_today.append(outcome[0]) #adds the outcome for that chicken to the list. \n",
    "            \n",
    "        total_egg_count.append(sum(eggs_today)) #adds the sum of the eggs for a day from each chicken in the flock \n",
    "\n",
    "    total_eggs = sum(total_egg_count) #sums all eggs for all days selected in the input parameter\n",
    "    \n",
    "    dozen_eggs = total_eggs / 12 #divide by 12 to get how many dozen eggs we can sell\n",
    "    \n",
    "    return math.floor(dozen_eggs) * (sale_price - cost_of_carton) #retuns only eggs that fit into a \n",
    "    #dozen * sale price of dozen eggs less the cost of the carton\n",
    "    \n",
    "    \n",
    "egg_revenue(10,365, 4.25, 0.23)"
   ]
  },
  {
   "cell_type": "code",
   "execution_count": 29,
   "metadata": {},
   "outputs": [
    {
     "data": {
      "text/plain": [
       "647.73"
      ]
     },
     "execution_count": 29,
     "metadata": {},
     "output_type": "execute_result"
    }
   ],
   "source": [
    "#food_consumption function will calculate how much cost is incurred by feeding x amount of birds based on the cost\n",
    "#of the feed and how many lbs were purchased\n",
    "\n",
    "def food_consumption(chickens, days, bag_of_feed_cost, lbs_of_feed):\n",
    "    \n",
    "    #chickens - number of chickens in the flock\n",
    "    #days - number of days you want to simulate (i.e. 31 for month, 365 for year, etc.)\n",
    "    #bag_of_feed_cost - price of a single bag of feed\n",
    "    #lbs_of_feed - lbs of feed that were purchased from a single bag\n",
    "    \n",
    "    food_consumption = np.random.uniform(low = .23, high = .27, size = days*chickens) # A laying hen will consume between \n",
    "    #.23 and .27 lbs of feed per day. This function pulls a sample between .23 and .27 for each chicken for every day \n",
    "    #of the simulation allowing us to calculate how many pounds of feed x amount of chickens ate over the selected\n",
    "    #time period    \n",
    "    \n",
    "    bags_of_feed = math.ceil(sum(food_consumption)/lbs_of_feed) #food consumed divided by the lbs of feed you purchase to \n",
    "    #calculate how many bags of feed were purchased\n",
    "    \n",
    "    return round(bags_of_feed * bag_of_feed_cost,2) #returns the cost as bags of feed consumed * cost of the bags\n",
    "\n",
    "food_consumption(10,365,23.99,35)"
   ]
  },
  {
   "cell_type": "code",
   "execution_count": 350,
   "metadata": {},
   "outputs": [
    {
     "data": {
      "text/plain": [
       "114.27"
      ]
     },
     "execution_count": 350,
     "metadata": {},
     "output_type": "execute_result"
    }
   ],
   "source": [
    "#bedding_cost function will calculate the cost incurred from having to change the nesting bedding. The function\n",
    "#assumes the bedding needs to be changed every 27-31 days and the number of chickens you have affects how much bedding\n",
    "#you need\n",
    "\n",
    "def bedding_cost(chickens, days, bag_of_bedding_cost, cubic_feet_of_bedding):\n",
    "    \n",
    "    #chickens - number of chickens in the flock\n",
    "    #days - number of days you want to simulate (i.e. 31 for month, 365 for year, etc.)\n",
    "    #bag_of_bedding_cost - price of a single bag of bedding\n",
    "    #cubic_feet_of_bedding - cubic feed of bedding that were purchased from a single bag of bedding\n",
    "    \n",
    "    days_to_refresh = math.ceil(np.random.uniform(low = 27, high = 31, size = 1)) #randomly chooses a number between 27 \n",
    "    # and 31 days which is how often the bedding needs to be refreshed\n",
    "    \n",
    "    times_to_refresh_bedding = math.ceil(days/days_to_refresh) #calculates how many times the bedding needed to be \n",
    "    #refreshed during the time period entered into for the simulation\n",
    "        \n",
    "    chickens_for_10_cubic_feet = math.ceil(np.random.uniform(low = 23, high = 26, size = 1)) # selects a random number\n",
    "    #between 23 and 26, which is the number of chickens that can be provided nesting with 10 cubic feet of bedding\n",
    "   \n",
    "    if chickens <= chickens_for_10_cubic_feet: #if we less than or equal to the number of chickens randomly selected\n",
    "    #from above, we won't need to buy an additional bag \n",
    "    \n",
    "        feet_from_chickens = 0 #no additional bag needed\n",
    "        \n",
    "    else:\n",
    "        feet_from_chickens = math.ceil(((10/chickens_for_10_cubic_feet) * chickens)/cubic_feet_of_bedding)\n",
    "        #divide 10 by the number of chickens that 10 cubic feet will provide for to get a rate per bird\n",
    "        #then multiply that rate by how many chickens are in our simulation\n",
    "        #finally, divide that amount by how many cubic feet of bedding are in a single bag, to determine how \n",
    "        #many bags we need.\n",
    "   \n",
    "    return round(bag_of_bedding_cost * (times_to_refresh_bedding + feet_from_chickens),2) #returns cost of bedding\n",
    "    \n",
    "bedding_cost(25, 365, 8.79,10)"
   ]
  },
  {
   "cell_type": "code",
   "execution_count": 527,
   "metadata": {},
   "outputs": [],
   "source": [
    "gross_profit_amounts = []\n",
    "revenue_amounts = []\n",
    "food_cost_amounts = []\n",
    "bed_cost_amounts = []\n",
    "total_cost_amounts = []\n",
    "\n",
    "for i in range(0,100):\n",
    "\n",
    "    chickens = 25\n",
    "    days = 365\n",
    "    sale_price = 3.50\n",
    "    cost_of_carton = 0.23\n",
    "    bag_of_feed_cost = 23.99\n",
    "    lbs_of_feed = 35\n",
    "    bag_of_bedding_cost = 8.49\n",
    "    cubic_feet_of_bedding = 10\n",
    "    additional_cost = 0\n",
    "\n",
    "    revenue = egg_revenue(chickens, days, sale_price, cost_of_carton)\n",
    "    food_cost = food_consumption(chickens, days, bag_of_feed_cost, lbs_of_feed)\n",
    "    bed_cost = bedding_cost(chickens, days, bag_of_bedding_cost, cubic_feet_of_bedding)\n",
    "    total_cost = food_cost + bed_cost + additional_cost\n",
    "\n",
    "    gross_profit = revenue - food_cost - bed_cost - additional_cost\n",
    "    gross_profit_amounts.append(gross_profit)\n",
    "    revenue_amounts.append(revenue)\n",
    "    food_cost_amounts.append(food_cost)\n",
    "    bed_cost_amounts.append(bed_cost)\n",
    "    total_cost_amounts.append(total_cost)\n"
   ]
  },
  {
   "cell_type": "code",
   "execution_count": 581,
   "metadata": {},
   "outputs": [],
   "source": [
    "chickens_to_sweep = np.linspace(1,50,50)   \n",
    "avg_gross_profit_amounts = []\n",
    "avg_revenue_amounts = []\n",
    "avg_food_cost_amounts = []\n",
    "avg_bed_cost_amounts = []\n",
    "avg_total_cost_amounts = []\n",
    "\n",
    "for n_chickens in chickens_to_sweep:\n",
    "    gross_profit_amounts = []\n",
    "    revenue_amounts = []\n",
    "    food_cost_amounts = []\n",
    "    bed_cost_amounts = []\n",
    "    total_cost_amounts = []\n",
    "\n",
    "    for i in range(0,100):\n",
    "\n",
    "        chickens = int(n_chickens)\n",
    "        days = 365\n",
    "        sale_price = 3.50\n",
    "        cost_of_carton = 0.23\n",
    "        bag_of_feed_cost = 23.99\n",
    "        lbs_of_feed = 35\n",
    "        bag_of_bedding_cost = 8.49\n",
    "        cubic_feet_of_bedding = 10\n",
    "        additional_cost = 0\n",
    "\n",
    "        revenue = egg_revenue(chickens, days, sale_price, cost_of_carton)\n",
    "        food_cost = food_consumption(chickens, days, bag_of_feed_cost, lbs_of_feed)\n",
    "        bed_cost = bedding_cost(chickens, days, bag_of_bedding_cost, cubic_feet_of_bedding)\n",
    "        total_cost = food_cost + bed_cost + additional_cost\n",
    "\n",
    "        gross_profit = revenue - food_cost - bed_cost - additional_cost\n",
    "        gross_profit_amounts.append(gross_profit)\n",
    "        revenue_amounts.append(revenue)\n",
    "        food_cost_amounts.append(food_cost)\n",
    "        bed_cost_amounts.append(bed_cost)\n",
    "        total_cost_amounts.append(total_cost)\n",
    "    \n",
    "    avg_gross_profit_amounts.append(np.average(gross_profit_amounts))\n",
    "    avg_revenue_amounts.append(np.average(revenue_amounts))\n",
    "    avg_food_cost_amounts.append(np.average(food_cost_amounts))\n",
    "    avg_bed_cost_amounts.append(np.average(bed_cost_amounts))\n",
    "    avg_total_cost_amounts.append(np.average(total_cost_amounts))"
   ]
  },
  {
   "cell_type": "code",
   "execution_count": 578,
   "metadata": {},
   "outputs": [
    {
     "data": {
      "text/plain": [
       "50.0"
      ]
     },
     "execution_count": 578,
     "metadata": {},
     "output_type": "execute_result"
    }
   ],
   "source": [
    "avg_gross_profit_amounts.index(max(avg_gross_profit_amounts))\n",
    "np.linspace(5,50,10)[9]"
   ]
  },
  {
   "cell_type": "code",
   "execution_count": 579,
   "metadata": {},
   "outputs": [
    {
     "data": {
      "text/plain": [
       "[<matplotlib.lines.Line2D at 0x190d6e694c8>]"
      ]
     },
     "execution_count": 579,
     "metadata": {},
     "output_type": "execute_result"
    },
    {
     "data": {
      "image/png": "[encoded data removed]",
      "text/plain": [
       "<Figure size 432x288 with 1 Axes>"
      ]
     },
     "metadata": {
      "needs_background": "light"
     },
     "output_type": "display_data"
    }
   ],
   "source": [
    "plt.plot(np.linspace(5,50,10), avg_gross_profit_amounts)"
   ]
  },
  {
   "cell_type": "code",
   "execution_count": 580,
   "metadata": {},
   "outputs": [
    {
     "data": {
      "text/plain": [
       "[-100.31840000000003,\n",
       " -64.12860000000002,\n",
       " -28.103300000000026,\n",
       " 6.870499999999969,\n",
       " 36.00510000000008,\n",
       " 61.287699999999994,\n",
       " 95.01590000000016,\n",
       " 130.5915000000002,\n",
       " 167.88399999999984,\n",
       " 199.00279999999998]"
      ]
     },
     "execution_count": 580,
     "metadata": {},
     "output_type": "execute_result"
    }
   ],
   "source": [
    "avg_gross_profit_amounts"
   ]
  },
  {
   "cell_type": "code",
   "execution_count": 569,
   "metadata": {},
   "outputs": [
    {
     "data": {
      "text/plain": [
       "[<matplotlib.lines.Line2D at 0x190d68b79c8>]"
      ]
     },
     "execution_count": 569,
     "metadata": {},
     "output_type": "execute_result"
    },
    {
     "data": {
      "image/png": "[encoded data removed]",
      "text/plain": [
       "<Figure size 432x288 with 1 Axes>"
      ]
     },
     "metadata": {
      "needs_background": "light"
     },
     "output_type": "display_data"
    }
   ],
   "source": [
    "plt.plot(np.linspace(5,50,10), avg_bed_cost_amounts)"
   ]
  },
  {
   "cell_type": "code",
   "execution_count": 570,
   "metadata": {},
   "outputs": [
    {
     "data": {
      "text/plain": [
       "[<matplotlib.lines.Line2D at 0x190d6c65648>]"
      ]
     },
     "execution_count": 570,
     "metadata": {},
     "output_type": "execute_result"
    },
    {
     "data": {
      "image/png": "[encoded data removed]",
      "text/plain": [
       "<Figure size 432x288 with 1 Axes>"
      ]
     },
     "metadata": {
      "needs_background": "light"
     },
     "output_type": "display_data"
    }
   ],
   "source": [
    "plt.plot(np.linspace(5,50,10), avg_total_cost_amounts)"
   ]
  }
 ],
 "metadata": {
  "kernelspec": {
   "display_name": "Python 3",
   "language": "python",
   "name": "python3"
  },
  "language_info": {
   "codemirror_mode": {
    "name": "ipython",
    "version": 3
   },
   "file_extension": ".py",
   "mimetype": "text/x-python",
   "name": "python",
   "nbconvert_exporter": "python",
   "pygments_lexer": "ipython3",
   "version": "3.7.6"
  }
 },
 "nbformat": 4,
 "nbformat_minor": 4
}
